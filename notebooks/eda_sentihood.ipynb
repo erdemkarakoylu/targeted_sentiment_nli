{
 "cells": [
  {
   "cell_type": "code",
   "execution_count": 29,
   "metadata": {},
   "outputs": [],
   "source": [
    "from pathlib import Path\n",
    "import pandas as pd\n",
    "import numpy as np\n",
    "import matplotlib.pyplot as pp"
   ]
  },
  {
   "attachments": {},
   "cell_type": "markdown",
   "metadata": {},
   "source": [
    "### Load Data"
   ]
  },
  {
   "cell_type": "code",
   "execution_count": 3,
   "metadata": {},
   "outputs": [],
   "source": [
    "proj_path = Path('/home/ekarakoylu/PROJEX/directed_sentiment_nli')\n",
    "dev_data_path = proj_path / 'data/sentihood/sentihood_dev.json'\n",
    "train_data_path = proj_path / 'data/sentihood/sentihood_train.json'\n",
    "test_data_path = proj_path / 'data/sentihood/sentihood_test.json'"
   ]
  },
  {
   "cell_type": "code",
   "execution_count": 4,
   "metadata": {},
   "outputs": [],
   "source": [
    "assert dev_data_path.exists()\n",
    "assert train_data_path.exists()\n",
    "assert test_data_path.exists()"
   ]
  },
  {
   "attachments": {},
   "cell_type": "markdown",
   "metadata": {},
   "source": [
    "### Clean Data"
   ]
  },
  {
   "cell_type": "code",
   "execution_count": 5,
   "metadata": {},
   "outputs": [],
   "source": [
    "def clean_dataframe(df):\n",
    "    dclean = pd.concat(\n",
    "        (df.explode('opinions')['opinions'].apply(pd.Series), \n",
    "        df.drop('opinions', axis=1)),\n",
    "        axis=1, join='outer').drop(0, axis=1).dropna().reset_index(drop=True)\n",
    "    return dclean\n"
   ]
  },
  {
   "cell_type": "code",
   "execution_count": 6,
   "metadata": {},
   "outputs": [],
   "source": [
    "ddev = pd.read_json(dev_data_path)"
   ]
  },
  {
   "cell_type": "code",
   "execution_count": 7,
   "metadata": {},
   "outputs": [
    {
     "name": "stdout",
     "output_type": "stream",
     "text": [
      "<class 'pandas.core.frame.DataFrame'>\n",
      "RangeIndex: 747 entries, 0 to 746\n",
      "Data columns (total 3 columns):\n",
      " #   Column    Non-Null Count  Dtype \n",
      "---  ------    --------------  ----- \n",
      " 0   opinions  747 non-null    object\n",
      " 1   id        747 non-null    int64 \n",
      " 2   text      747 non-null    object\n",
      "dtypes: int64(1), object(2)\n",
      "memory usage: 17.6+ KB\n"
     ]
    }
   ],
   "source": [
    "ddev.info()"
   ]
  },
  {
   "cell_type": "code",
   "execution_count": 8,
   "metadata": {},
   "outputs": [
    {
     "data": {
      "text/html": [
       "<div>\n",
       "<style scoped>\n",
       "    .dataframe tbody tr th:only-of-type {\n",
       "        vertical-align: middle;\n",
       "    }\n",
       "\n",
       "    .dataframe tbody tr th {\n",
       "        vertical-align: top;\n",
       "    }\n",
       "\n",
       "    .dataframe thead th {\n",
       "        text-align: right;\n",
       "    }\n",
       "</style>\n",
       "<table border=\"1\" class=\"dataframe\">\n",
       "  <thead>\n",
       "    <tr style=\"text-align: right;\">\n",
       "      <th></th>\n",
       "      <th>sentiment</th>\n",
       "      <th>aspect</th>\n",
       "      <th>target_entity</th>\n",
       "      <th>id</th>\n",
       "      <th>text</th>\n",
       "    </tr>\n",
       "  </thead>\n",
       "  <tbody>\n",
       "    <tr>\n",
       "      <th>0</th>\n",
       "      <td>Positive</td>\n",
       "      <td>shopping</td>\n",
       "      <td>LOCATION1</td>\n",
       "      <td>302</td>\n",
       "      <td>LOCATION1 is just a normal area that happens ...</td>\n",
       "    </tr>\n",
       "    <tr>\n",
       "      <th>1</th>\n",
       "      <td>Positive</td>\n",
       "      <td>transit-location</td>\n",
       "      <td>LOCATION1</td>\n",
       "      <td>662</td>\n",
       "      <td>, LOCATION1 , LOCATION2 are all good places to...</td>\n",
       "    </tr>\n",
       "    <tr>\n",
       "      <th>2</th>\n",
       "      <td>Positive</td>\n",
       "      <td>transit-location</td>\n",
       "      <td>LOCATION2</td>\n",
       "      <td>662</td>\n",
       "      <td>, LOCATION1 , LOCATION2 are all good places to...</td>\n",
       "    </tr>\n",
       "    <tr>\n",
       "      <th>3</th>\n",
       "      <td>Negative</td>\n",
       "      <td>safety</td>\n",
       "      <td>LOCATION1</td>\n",
       "      <td>292</td>\n",
       "      <td>A Brazilian man was shot there 3 years ago in ...</td>\n",
       "    </tr>\n",
       "    <tr>\n",
       "      <th>4</th>\n",
       "      <td>Negative</td>\n",
       "      <td>safety</td>\n",
       "      <td>LOCATION1</td>\n",
       "      <td>78</td>\n",
       "      <td>A friend of mine lived in LOCATION1 and she li...</td>\n",
       "    </tr>\n",
       "  </tbody>\n",
       "</table>\n",
       "</div>"
      ],
      "text/plain": [
       "  sentiment            aspect target_entity   id  \\\n",
       "0  Positive          shopping     LOCATION1  302   \n",
       "1  Positive  transit-location     LOCATION1  662   \n",
       "2  Positive  transit-location     LOCATION2  662   \n",
       "3  Negative            safety     LOCATION1  292   \n",
       "4  Negative            safety     LOCATION1   78   \n",
       "\n",
       "                                                text  \n",
       "0   LOCATION1 is just a normal area that happens ...  \n",
       "1  , LOCATION1 , LOCATION2 are all good places to...  \n",
       "2  , LOCATION1 , LOCATION2 are all good places to...  \n",
       "3  A Brazilian man was shot there 3 years ago in ...  \n",
       "4  A friend of mine lived in LOCATION1 and she li...  "
      ]
     },
     "execution_count": 8,
     "metadata": {},
     "output_type": "execute_result"
    }
   ],
   "source": [
    "\n",
    "ddvc = clean_dataframe(ddev)\n",
    "ddvc.head()"
   ]
  },
  {
   "cell_type": "code",
   "execution_count": null,
   "metadata": {},
   "outputs": [],
   "source": []
  },
  {
   "cell_type": "code",
   "execution_count": 9,
   "metadata": {},
   "outputs": [],
   "source": [
    "dtr = pd.read_json(train_data_path)"
   ]
  },
  {
   "cell_type": "code",
   "execution_count": 10,
   "metadata": {},
   "outputs": [
    {
     "name": "stdout",
     "output_type": "stream",
     "text": [
      "<class 'pandas.core.frame.DataFrame'>\n",
      "RangeIndex: 2977 entries, 0 to 2976\n",
      "Data columns (total 3 columns):\n",
      " #   Column    Non-Null Count  Dtype \n",
      "---  ------    --------------  ----- \n",
      " 0   opinions  2977 non-null   object\n",
      " 1   id        2977 non-null   int64 \n",
      " 2   text      2977 non-null   object\n",
      "dtypes: int64(1), object(2)\n",
      "memory usage: 69.9+ KB\n"
     ]
    }
   ],
   "source": [
    "dtr.info()"
   ]
  },
  {
   "cell_type": "code",
   "execution_count": 11,
   "metadata": {},
   "outputs": [
    {
     "data": {
      "text/html": [
       "<div>\n",
       "<style scoped>\n",
       "    .dataframe tbody tr th:only-of-type {\n",
       "        vertical-align: middle;\n",
       "    }\n",
       "\n",
       "    .dataframe tbody tr th {\n",
       "        vertical-align: top;\n",
       "    }\n",
       "\n",
       "    .dataframe thead th {\n",
       "        text-align: right;\n",
       "    }\n",
       "</style>\n",
       "<table border=\"1\" class=\"dataframe\">\n",
       "  <thead>\n",
       "    <tr style=\"text-align: right;\">\n",
       "      <th></th>\n",
       "      <th>opinions</th>\n",
       "      <th>id</th>\n",
       "      <th>text</th>\n",
       "    </tr>\n",
       "  </thead>\n",
       "  <tbody>\n",
       "    <tr>\n",
       "      <th>0</th>\n",
       "      <td>[{'sentiment': 'Negative', 'aspect': 'price', ...</td>\n",
       "      <td>1430</td>\n",
       "      <td>LOCATION1 is transforming and the prices w...</td>\n",
       "    </tr>\n",
       "    <tr>\n",
       "      <th>1</th>\n",
       "      <td>[{'sentiment': 'Positive', 'aspect': 'shopping...</td>\n",
       "      <td>2013</td>\n",
       "      <td>Along LOCATION1 there are lots of Electronic...</td>\n",
       "    </tr>\n",
       "    <tr>\n",
       "      <th>2</th>\n",
       "      <td>[{'sentiment': 'Positive', 'aspect': 'transit-...</td>\n",
       "      <td>1244</td>\n",
       "      <td>And LOCATION1 is ten mins direct on the tube...</td>\n",
       "    </tr>\n",
       "    <tr>\n",
       "      <th>3</th>\n",
       "      <td>[{'sentiment': 'Positive', 'aspect': 'nightlif...</td>\n",
       "      <td>209</td>\n",
       "      <td>Another option is LOCATION1 which is very ce...</td>\n",
       "    </tr>\n",
       "    <tr>\n",
       "      <th>4</th>\n",
       "      <td>[{'sentiment': 'Positive', 'aspect': 'general'...</td>\n",
       "      <td>2824</td>\n",
       "      <td>Best bet is around LOCATION2 and LOCATION1 a...</td>\n",
       "    </tr>\n",
       "  </tbody>\n",
       "</table>\n",
       "</div>"
      ],
      "text/plain": [
       "                                            opinions    id  \\\n",
       "0  [{'sentiment': 'Negative', 'aspect': 'price', ...  1430   \n",
       "1  [{'sentiment': 'Positive', 'aspect': 'shopping...  2013   \n",
       "2  [{'sentiment': 'Positive', 'aspect': 'transit-...  1244   \n",
       "3  [{'sentiment': 'Positive', 'aspect': 'nightlif...   209   \n",
       "4  [{'sentiment': 'Positive', 'aspect': 'general'...  2824   \n",
       "\n",
       "                                                text  \n",
       "0      LOCATION1 is transforming and the prices w...  \n",
       "1    Along LOCATION1 there are lots of Electronic...  \n",
       "2    And LOCATION1 is ten mins direct on the tube...  \n",
       "3    Another option is LOCATION1 which is very ce...  \n",
       "4    Best bet is around LOCATION2 and LOCATION1 a...  "
      ]
     },
     "execution_count": 11,
     "metadata": {},
     "output_type": "execute_result"
    }
   ],
   "source": [
    "dtr.head()"
   ]
  },
  {
   "cell_type": "code",
   "execution_count": 12,
   "metadata": {},
   "outputs": [],
   "source": [
    "dtrc = clean_dataframe(dtr)"
   ]
  },
  {
   "cell_type": "code",
   "execution_count": 13,
   "metadata": {},
   "outputs": [
    {
     "data": {
      "text/html": [
       "<div>\n",
       "<style scoped>\n",
       "    .dataframe tbody tr th:only-of-type {\n",
       "        vertical-align: middle;\n",
       "    }\n",
       "\n",
       "    .dataframe tbody tr th {\n",
       "        vertical-align: top;\n",
       "    }\n",
       "\n",
       "    .dataframe thead th {\n",
       "        text-align: right;\n",
       "    }\n",
       "</style>\n",
       "<table border=\"1\" class=\"dataframe\">\n",
       "  <thead>\n",
       "    <tr style=\"text-align: right;\">\n",
       "      <th></th>\n",
       "      <th>sentiment</th>\n",
       "      <th>aspect</th>\n",
       "      <th>target_entity</th>\n",
       "      <th>id</th>\n",
       "      <th>text</th>\n",
       "    </tr>\n",
       "  </thead>\n",
       "  <tbody>\n",
       "    <tr>\n",
       "      <th>0</th>\n",
       "      <td>Negative</td>\n",
       "      <td>price</td>\n",
       "      <td>LOCATION1</td>\n",
       "      <td>1430</td>\n",
       "      <td>LOCATION1 is transforming and the prices w...</td>\n",
       "    </tr>\n",
       "    <tr>\n",
       "      <th>1</th>\n",
       "      <td>Positive</td>\n",
       "      <td>shopping</td>\n",
       "      <td>LOCATION1</td>\n",
       "      <td>2013</td>\n",
       "      <td>Along LOCATION1 there are lots of Electronic...</td>\n",
       "    </tr>\n",
       "    <tr>\n",
       "      <th>2</th>\n",
       "      <td>Positive</td>\n",
       "      <td>transit-location</td>\n",
       "      <td>LOCATION1</td>\n",
       "      <td>1244</td>\n",
       "      <td>And LOCATION1 is ten mins direct on the tube...</td>\n",
       "    </tr>\n",
       "    <tr>\n",
       "      <th>3</th>\n",
       "      <td>Positive</td>\n",
       "      <td>nightlife</td>\n",
       "      <td>LOCATION1</td>\n",
       "      <td>209</td>\n",
       "      <td>Another option is LOCATION1 which is very ce...</td>\n",
       "    </tr>\n",
       "    <tr>\n",
       "      <th>4</th>\n",
       "      <td>Positive</td>\n",
       "      <td>transit-location</td>\n",
       "      <td>LOCATION1</td>\n",
       "      <td>209</td>\n",
       "      <td>Another option is LOCATION1 which is very ce...</td>\n",
       "    </tr>\n",
       "  </tbody>\n",
       "</table>\n",
       "</div>"
      ],
      "text/plain": [
       "  sentiment            aspect target_entity    id  \\\n",
       "0  Negative             price     LOCATION1  1430   \n",
       "1  Positive          shopping     LOCATION1  2013   \n",
       "2  Positive  transit-location     LOCATION1  1244   \n",
       "3  Positive         nightlife     LOCATION1   209   \n",
       "4  Positive  transit-location     LOCATION1   209   \n",
       "\n",
       "                                                text  \n",
       "0      LOCATION1 is transforming and the prices w...  \n",
       "1    Along LOCATION1 there are lots of Electronic...  \n",
       "2    And LOCATION1 is ten mins direct on the tube...  \n",
       "3    Another option is LOCATION1 which is very ce...  \n",
       "4    Another option is LOCATION1 which is very ce...  "
      ]
     },
     "execution_count": 13,
     "metadata": {},
     "output_type": "execute_result"
    }
   ],
   "source": [
    "dtrc.head()"
   ]
  },
  {
   "cell_type": "code",
   "execution_count": 14,
   "metadata": {},
   "outputs": [
    {
     "name": "stdout",
     "output_type": "stream",
     "text": [
      "<class 'pandas.core.frame.DataFrame'>\n",
      "RangeIndex: 3396 entries, 0 to 3395\n",
      "Data columns (total 5 columns):\n",
      " #   Column         Non-Null Count  Dtype \n",
      "---  ------         --------------  ----- \n",
      " 0   sentiment      3396 non-null   object\n",
      " 1   aspect         3396 non-null   object\n",
      " 2   target_entity  3396 non-null   object\n",
      " 3   id             3396 non-null   int64 \n",
      " 4   text           3396 non-null   object\n",
      "dtypes: int64(1), object(4)\n",
      "memory usage: 132.8+ KB\n"
     ]
    }
   ],
   "source": [
    "dtrc.info()"
   ]
  },
  {
   "cell_type": "code",
   "execution_count": 15,
   "metadata": {},
   "outputs": [
    {
     "data": {
      "text/plain": [
       "Positive    2475\n",
       "Negative     921\n",
       "Name: sentiment, dtype: int64"
      ]
     },
     "execution_count": 15,
     "metadata": {},
     "output_type": "execute_result"
    }
   ],
   "source": [
    "dtrc.sentiment.value_counts()"
   ]
  },
  {
   "cell_type": "code",
   "execution_count": 17,
   "metadata": {},
   "outputs": [],
   "source": [
    "dts = pd.read_json(test_data_path)"
   ]
  },
  {
   "cell_type": "code",
   "execution_count": 18,
   "metadata": {},
   "outputs": [
    {
     "data": {
      "text/html": [
       "<div>\n",
       "<style scoped>\n",
       "    .dataframe tbody tr th:only-of-type {\n",
       "        vertical-align: middle;\n",
       "    }\n",
       "\n",
       "    .dataframe tbody tr th {\n",
       "        vertical-align: top;\n",
       "    }\n",
       "\n",
       "    .dataframe thead th {\n",
       "        text-align: right;\n",
       "    }\n",
       "</style>\n",
       "<table border=\"1\" class=\"dataframe\">\n",
       "  <thead>\n",
       "    <tr style=\"text-align: right;\">\n",
       "      <th></th>\n",
       "      <th>opinions</th>\n",
       "      <th>id</th>\n",
       "      <th>text</th>\n",
       "    </tr>\n",
       "  </thead>\n",
       "  <tbody>\n",
       "    <tr>\n",
       "      <th>0</th>\n",
       "      <td>[{'sentiment': 'Positive', 'aspect': 'safety',...</td>\n",
       "      <td>153</td>\n",
       "      <td>LOCATION1 is in Greater London  and is a ve...</td>\n",
       "    </tr>\n",
       "    <tr>\n",
       "      <th>1</th>\n",
       "      <td>[{'sentiment': 'Positive', 'aspect': 'general'...</td>\n",
       "      <td>1130</td>\n",
       "      <td>All the neighborhoods around LOCATION1 are v...</td>\n",
       "    </tr>\n",
       "    <tr>\n",
       "      <th>2</th>\n",
       "      <td>[{'sentiment': 'Negative', 'aspect': 'general'...</td>\n",
       "      <td>1271</td>\n",
       "      <td>Cheap is LOCATION2, LOCATION1, but not reall...</td>\n",
       "    </tr>\n",
       "    <tr>\n",
       "      <th>3</th>\n",
       "      <td>[{'sentiment': 'Negative', 'aspect': 'general'...</td>\n",
       "      <td>1089</td>\n",
       "      <td>Dont Try LOCATION1</td>\n",
       "    </tr>\n",
       "    <tr>\n",
       "      <th>4</th>\n",
       "      <td>[]</td>\n",
       "      <td>731</td>\n",
       "      <td>Find the website for 'Museum in LOCATION1' (...</td>\n",
       "    </tr>\n",
       "  </tbody>\n",
       "</table>\n",
       "</div>"
      ],
      "text/plain": [
       "                                            opinions    id  \\\n",
       "0  [{'sentiment': 'Positive', 'aspect': 'safety',...   153   \n",
       "1  [{'sentiment': 'Positive', 'aspect': 'general'...  1130   \n",
       "2  [{'sentiment': 'Negative', 'aspect': 'general'...  1271   \n",
       "3  [{'sentiment': 'Negative', 'aspect': 'general'...  1089   \n",
       "4                                                 []   731   \n",
       "\n",
       "                                                text  \n",
       "0     LOCATION1 is in Greater London  and is a ve...  \n",
       "1    All the neighborhoods around LOCATION1 are v...  \n",
       "2    Cheap is LOCATION2, LOCATION1, but not reall...  \n",
       "3                                 Dont Try LOCATION1  \n",
       "4    Find the website for 'Museum in LOCATION1' (...  "
      ]
     },
     "execution_count": 18,
     "metadata": {},
     "output_type": "execute_result"
    }
   ],
   "source": [
    "dts.head()"
   ]
  },
  {
   "cell_type": "code",
   "execution_count": 19,
   "metadata": {},
   "outputs": [
    {
     "name": "stdout",
     "output_type": "stream",
     "text": [
      "<class 'pandas.core.frame.DataFrame'>\n",
      "RangeIndex: 1491 entries, 0 to 1490\n",
      "Data columns (total 3 columns):\n",
      " #   Column    Non-Null Count  Dtype \n",
      "---  ------    --------------  ----- \n",
      " 0   opinions  1491 non-null   object\n",
      " 1   id        1491 non-null   int64 \n",
      " 2   text      1491 non-null   object\n",
      "dtypes: int64(1), object(2)\n",
      "memory usage: 35.1+ KB\n"
     ]
    }
   ],
   "source": [
    "dts.info()"
   ]
  },
  {
   "cell_type": "code",
   "execution_count": 20,
   "metadata": {},
   "outputs": [],
   "source": [
    "dtsc = clean_dataframe(dts)"
   ]
  },
  {
   "cell_type": "code",
   "execution_count": 21,
   "metadata": {},
   "outputs": [
    {
     "data": {
      "text/html": [
       "<div>\n",
       "<style scoped>\n",
       "    .dataframe tbody tr th:only-of-type {\n",
       "        vertical-align: middle;\n",
       "    }\n",
       "\n",
       "    .dataframe tbody tr th {\n",
       "        vertical-align: top;\n",
       "    }\n",
       "\n",
       "    .dataframe thead th {\n",
       "        text-align: right;\n",
       "    }\n",
       "</style>\n",
       "<table border=\"1\" class=\"dataframe\">\n",
       "  <thead>\n",
       "    <tr style=\"text-align: right;\">\n",
       "      <th></th>\n",
       "      <th>sentiment</th>\n",
       "      <th>aspect</th>\n",
       "      <th>target_entity</th>\n",
       "      <th>id</th>\n",
       "      <th>text</th>\n",
       "    </tr>\n",
       "  </thead>\n",
       "  <tbody>\n",
       "    <tr>\n",
       "      <th>0</th>\n",
       "      <td>Positive</td>\n",
       "      <td>safety</td>\n",
       "      <td>LOCATION1</td>\n",
       "      <td>153</td>\n",
       "      <td>LOCATION1 is in Greater London  and is a ve...</td>\n",
       "    </tr>\n",
       "    <tr>\n",
       "      <th>1</th>\n",
       "      <td>Positive</td>\n",
       "      <td>general</td>\n",
       "      <td>LOCATION1</td>\n",
       "      <td>1130</td>\n",
       "      <td>All the neighborhoods around LOCATION1 are v...</td>\n",
       "    </tr>\n",
       "    <tr>\n",
       "      <th>2</th>\n",
       "      <td>Positive</td>\n",
       "      <td>safety</td>\n",
       "      <td>LOCATION1</td>\n",
       "      <td>1130</td>\n",
       "      <td>All the neighborhoods around LOCATION1 are v...</td>\n",
       "    </tr>\n",
       "    <tr>\n",
       "      <th>3</th>\n",
       "      <td>Negative</td>\n",
       "      <td>general</td>\n",
       "      <td>LOCATION1</td>\n",
       "      <td>1271</td>\n",
       "      <td>Cheap is LOCATION2, LOCATION1, but not reall...</td>\n",
       "    </tr>\n",
       "    <tr>\n",
       "      <th>4</th>\n",
       "      <td>Positive</td>\n",
       "      <td>price</td>\n",
       "      <td>LOCATION1</td>\n",
       "      <td>1271</td>\n",
       "      <td>Cheap is LOCATION2, LOCATION1, but not reall...</td>\n",
       "    </tr>\n",
       "  </tbody>\n",
       "</table>\n",
       "</div>"
      ],
      "text/plain": [
       "  sentiment   aspect target_entity    id  \\\n",
       "0  Positive   safety     LOCATION1   153   \n",
       "1  Positive  general     LOCATION1  1130   \n",
       "2  Positive   safety     LOCATION1  1130   \n",
       "3  Negative  general     LOCATION1  1271   \n",
       "4  Positive    price     LOCATION1  1271   \n",
       "\n",
       "                                                text  \n",
       "0     LOCATION1 is in Greater London  and is a ve...  \n",
       "1    All the neighborhoods around LOCATION1 are v...  \n",
       "2    All the neighborhoods around LOCATION1 are v...  \n",
       "3    Cheap is LOCATION2, LOCATION1, but not reall...  \n",
       "4    Cheap is LOCATION2, LOCATION1, but not reall...  "
      ]
     },
     "execution_count": 21,
     "metadata": {},
     "output_type": "execute_result"
    }
   ],
   "source": [
    "dtsc.head()"
   ]
  },
  {
   "cell_type": "code",
   "execution_count": 22,
   "metadata": {},
   "outputs": [
    {
     "name": "stdout",
     "output_type": "stream",
     "text": [
      "<class 'pandas.core.frame.DataFrame'>\n",
      "RangeIndex: 1677 entries, 0 to 1676\n",
      "Data columns (total 5 columns):\n",
      " #   Column         Non-Null Count  Dtype \n",
      "---  ------         --------------  ----- \n",
      " 0   sentiment      1677 non-null   object\n",
      " 1   aspect         1677 non-null   object\n",
      " 2   target_entity  1677 non-null   object\n",
      " 3   id             1677 non-null   int64 \n",
      " 4   text           1677 non-null   object\n",
      "dtypes: int64(1), object(4)\n",
      "memory usage: 65.6+ KB\n"
     ]
    }
   ],
   "source": [
    "dtsc.info()"
   ]
  },
  {
   "attachments": {},
   "cell_type": "markdown",
   "metadata": {},
   "source": [
    "### EDA"
   ]
  },
  {
   "cell_type": "code",
   "execution_count": 54,
   "metadata": {},
   "outputs": [
    {
     "data": {
      "text/plain": [
       "2"
      ]
     },
     "execution_count": 54,
     "metadata": {},
     "output_type": "execute_result"
    }
   ],
   "source": [
    "dtrc.sentiment.value_counts().index.size"
   ]
  },
  {
   "cell_type": "code",
   "execution_count": 63,
   "metadata": {},
   "outputs": [
    {
     "data": {
      "text/plain": [
       "<AxesSubplot: xlabel='sentiment', ylabel='Count'>"
      ]
     },
     "execution_count": 63,
     "metadata": {},
     "output_type": "execute_result"
    },
    {
     "data": {
      "image/png": "[encoded data removed]",
      "text/plain": [
       "<Figure size 640x480 with 1 Axes>"
      ]
     },
     "metadata": {},
     "output_type": "display_data"
    }
   ],
   "source": [
    "import seaborn as sb\n",
    "sb.histplot(ddvc.sentiment)"
   ]
  },
  {
   "cell_type": "code",
   "execution_count": 68,
   "metadata": {},
   "outputs": [
    {
     "data": {
      "image/png": "[encoded data removed]",
      "text/plain": [
       "<Figure size 640x480 with 4 Axes>"
      ]
     },
     "metadata": {},
     "output_type": "display_data"
    }
   ],
   "source": [
    "def plot_hist(column:str, xrot:int|float=0):\n",
    "    f, axs = pp.subplots(ncols=2, nrows=2, sharex=True, sharey=True)\n",
    "    for ax, d, ttl in zip(axs.ravel(), [dtrc, dtsc, ddvc], ['train', 'test', 'dev']):\n",
    "        bins = d[column].value_counts().index.size\n",
    "        sb.histplot(d[column], ax=ax, shrink=0.6)\n",
    "        ax.set_title(ttl)\n",
    "    axs.ravel()[-1].set_visible(False)\n",
    "\n",
    "plot_hist('sentiment')"
   ]
  },
  {
   "cell_type": "code",
   "execution_count": 50,
   "metadata": {},
   "outputs": [
    {
     "data": {
      "image/png": "[encoded data removed]",
      "text/plain": [
       "<Figure size 640x480 with 4 Axes>"
      ]
     },
     "metadata": {},
     "output_type": "display_data"
    }
   ],
   "source": [
    "plot_hist(column='aspect', xrot=65)"
   ]
  },
  {
   "cell_type": "code",
   "execution_count": null,
   "metadata": {},
   "outputs": [],
   "source": []
  }
 ],
 "metadata": {
  "kernelspec": {
   "display_name": "dir_sent_qa",
   "language": "python",
   "name": "python3"
  },
  "language_info": {
   "codemirror_mode": {
    "name": "ipython",
    "version": 3
   },
   "file_extension": ".py",
   "mimetype": "text/x-python",
   "name": "python",
   "nbconvert_exporter": "python",
   "pygments_lexer": "ipython3",
   "version": "3.10.9"
  },
  "orig_nbformat": 4,
  "vscode": {
   "interpreter": {
    "hash": "1c331ed578845b93030dd13d4fb747e2ca8135fc936f4be14d6f101c1190eba5"
   }
  }
 },
 "nbformat": 4,
 "nbformat_minor": 2
}
