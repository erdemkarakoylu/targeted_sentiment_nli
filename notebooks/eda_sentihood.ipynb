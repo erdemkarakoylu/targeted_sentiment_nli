{
 "cells": [
  {
   "cell_type": "code",
   "execution_count": 1,
   "metadata": {},
   "outputs": [],
   "source": [
    "from pathlib import Path\n",
    "import pandas as pd\n",
    "import numpy as np"
   ]
  },
  {
   "attachments": {},
   "cell_type": "markdown",
   "metadata": {},
   "source": [
    "### Load Data"
   ]
  },
  {
   "cell_type": "code",
   "execution_count": 2,
   "metadata": {},
   "outputs": [],
   "source": [
    "proj_path = Path('/home/ekarakoylu/PROJEX/directed_sentiment_nli')\n",
    "dev_data_path = proj_path / 'data/sentihood/sentihood_dev.json'\n",
    "train_data_path = proj_path / 'data/sentihood/sentihood_train.json'\n",
    "test_data_path = proj_path / 'data/sentihood/sentihood_test.json'"
   ]
  },
  {
   "cell_type": "code",
   "execution_count": 3,
   "metadata": {},
   "outputs": [],
   "source": [
    "assert dev_data_path.exists()\n",
    "assert train_data_path.exists()\n",
    "assert test_data_path.exists()"
   ]
  },
  {
   "attachments": {},
   "cell_type": "markdown",
   "metadata": {},
   "source": [
    "### Clean Data"
   ]
  },
  {
   "cell_type": "code",
   "execution_count": 4,
   "metadata": {},
   "outputs": [],
   "source": [
    "def clean_dataframe(df):\n",
    "    dclean = pd.concat(\n",
    "        (df.explode('opinions')['opinions'].apply(pd.Series), \n",
    "        df.drop('opinions', axis=1)),\n",
    "        axis=1, join='outer').drop(0, axis=1).dropna().reset_index(drop=True)\n",
    "    return dclean\n"
   ]
  },
  {
   "cell_type": "code",
   "execution_count": 5,
   "metadata": {},
   "outputs": [],
   "source": [
    "ddev = pd.read_json(dev_data_path)"
   ]
  },
  {
   "cell_type": "code",
   "execution_count": 6,
   "metadata": {},
   "outputs": [
    {
     "name": "stdout",
     "output_type": "stream",
     "text": [
      "<class 'pandas.core.frame.DataFrame'>\n",
      "RangeIndex: 747 entries, 0 to 746\n",
      "Data columns (total 3 columns):\n",
      " #   Column    Non-Null Count  Dtype \n",
      "---  ------    --------------  ----- \n",
      " 0   opinions  747 non-null    object\n",
      " 1   id        747 non-null    int64 \n",
      " 2   text      747 non-null    object\n",
      "dtypes: int64(1), object(2)\n",
      "memory usage: 17.6+ KB\n"
     ]
    }
   ],
   "source": [
    "ddev.info()"
   ]
  },
  {
   "cell_type": "code",
   "execution_count": 7,
   "metadata": {},
   "outputs": [
    {
     "data": {
      "text/html": [
       "<div>\n",
       "<style scoped>\n",
       "    .dataframe tbody tr th:only-of-type {\n",
       "        vertical-align: middle;\n",
       "    }\n",
       "\n",
       "    .dataframe tbody tr th {\n",
       "        vertical-align: top;\n",
       "    }\n",
       "\n",
       "    .dataframe thead th {\n",
       "        text-align: right;\n",
       "    }\n",
       "</style>\n",
       "<table border=\"1\" class=\"dataframe\">\n",
       "  <thead>\n",
       "    <tr style=\"text-align: right;\">\n",
       "      <th></th>\n",
       "      <th>sentiment</th>\n",
       "      <th>aspect</th>\n",
       "      <th>target_entity</th>\n",
       "      <th>id</th>\n",
       "      <th>text</th>\n",
       "    </tr>\n",
       "  </thead>\n",
       "  <tbody>\n",
       "    <tr>\n",
       "      <th>0</th>\n",
       "      <td>Positive</td>\n",
       "      <td>shopping</td>\n",
       "      <td>LOCATION1</td>\n",
       "      <td>302</td>\n",
       "      <td>LOCATION1 is just a normal area that happens ...</td>\n",
       "    </tr>\n",
       "    <tr>\n",
       "      <th>1</th>\n",
       "      <td>Positive</td>\n",
       "      <td>transit-location</td>\n",
       "      <td>LOCATION1</td>\n",
       "      <td>662</td>\n",
       "      <td>, LOCATION1 , LOCATION2 are all good places to...</td>\n",
       "    </tr>\n",
       "    <tr>\n",
       "      <th>2</th>\n",
       "      <td>Positive</td>\n",
       "      <td>transit-location</td>\n",
       "      <td>LOCATION2</td>\n",
       "      <td>662</td>\n",
       "      <td>, LOCATION1 , LOCATION2 are all good places to...</td>\n",
       "    </tr>\n",
       "    <tr>\n",
       "      <th>3</th>\n",
       "      <td>Negative</td>\n",
       "      <td>safety</td>\n",
       "      <td>LOCATION1</td>\n",
       "      <td>292</td>\n",
       "      <td>A Brazilian man was shot there 3 years ago in ...</td>\n",
       "    </tr>\n",
       "    <tr>\n",
       "      <th>4</th>\n",
       "      <td>Negative</td>\n",
       "      <td>safety</td>\n",
       "      <td>LOCATION1</td>\n",
       "      <td>78</td>\n",
       "      <td>A friend of mine lived in LOCATION1 and she li...</td>\n",
       "    </tr>\n",
       "  </tbody>\n",
       "</table>\n",
       "</div>"
      ],
      "text/plain": [
       "  sentiment            aspect target_entity   id  \\\n",
       "0  Positive          shopping     LOCATION1  302   \n",
       "1  Positive  transit-location     LOCATION1  662   \n",
       "2  Positive  transit-location     LOCATION2  662   \n",
       "3  Negative            safety     LOCATION1  292   \n",
       "4  Negative            safety     LOCATION1   78   \n",
       "\n",
       "                                                text  \n",
       "0   LOCATION1 is just a normal area that happens ...  \n",
       "1  , LOCATION1 , LOCATION2 are all good places to...  \n",
       "2  , LOCATION1 , LOCATION2 are all good places to...  \n",
       "3  A Brazilian man was shot there 3 years ago in ...  \n",
       "4  A friend of mine lived in LOCATION1 and she li...  "
      ]
     },
     "execution_count": 7,
     "metadata": {},
     "output_type": "execute_result"
    }
   ],
   "source": [
    "\n",
    "ddvc = clean_dataframe(ddev)\n",
    "ddvc.head()"
   ]
  },
  {
   "cell_type": "code",
   "execution_count": 8,
   "metadata": {},
   "outputs": [],
   "source": [
    "dtr = pd.read_json(train_data_path)"
   ]
  },
  {
   "cell_type": "code",
   "execution_count": 9,
   "metadata": {},
   "outputs": [
    {
     "name": "stdout",
     "output_type": "stream",
     "text": [
      "<class 'pandas.core.frame.DataFrame'>\n",
      "RangeIndex: 2977 entries, 0 to 2976\n",
      "Data columns (total 3 columns):\n",
      " #   Column    Non-Null Count  Dtype \n",
      "---  ------    --------------  ----- \n",
      " 0   opinions  2977 non-null   object\n",
      " 1   id        2977 non-null   int64 \n",
      " 2   text      2977 non-null   object\n",
      "dtypes: int64(1), object(2)\n",
      "memory usage: 69.9+ KB\n"
     ]
    }
   ],
   "source": [
    "dtr.info()"
   ]
  },
  {
   "cell_type": "code",
   "execution_count": 10,
   "metadata": {},
   "outputs": [
    {
     "data": {
      "text/html": [
       "<div>\n",
       "<style scoped>\n",
       "    .dataframe tbody tr th:only-of-type {\n",
       "        vertical-align: middle;\n",
       "    }\n",
       "\n",
       "    .dataframe tbody tr th {\n",
       "        vertical-align: top;\n",
       "    }\n",
       "\n",
       "    .dataframe thead th {\n",
       "        text-align: right;\n",
       "    }\n",
       "</style>\n",
       "<table border=\"1\" class=\"dataframe\">\n",
       "  <thead>\n",
       "    <tr style=\"text-align: right;\">\n",
       "      <th></th>\n",
       "      <th>opinions</th>\n",
       "      <th>id</th>\n",
       "      <th>text</th>\n",
       "    </tr>\n",
       "  </thead>\n",
       "  <tbody>\n",
       "    <tr>\n",
       "      <th>0</th>\n",
       "      <td>[{'sentiment': 'Negative', 'aspect': 'price', ...</td>\n",
       "      <td>1430</td>\n",
       "      <td>LOCATION1 is transforming and the prices w...</td>\n",
       "    </tr>\n",
       "    <tr>\n",
       "      <th>1</th>\n",
       "      <td>[{'sentiment': 'Positive', 'aspect': 'shopping...</td>\n",
       "      <td>2013</td>\n",
       "      <td>Along LOCATION1 there are lots of Electronic...</td>\n",
       "    </tr>\n",
       "    <tr>\n",
       "      <th>2</th>\n",
       "      <td>[{'sentiment': 'Positive', 'aspect': 'transit-...</td>\n",
       "      <td>1244</td>\n",
       "      <td>And LOCATION1 is ten mins direct on the tube...</td>\n",
       "    </tr>\n",
       "    <tr>\n",
       "      <th>3</th>\n",
       "      <td>[{'sentiment': 'Positive', 'aspect': 'nightlif...</td>\n",
       "      <td>209</td>\n",
       "      <td>Another option is LOCATION1 which is very ce...</td>\n",
       "    </tr>\n",
       "    <tr>\n",
       "      <th>4</th>\n",
       "      <td>[{'sentiment': 'Positive', 'aspect': 'general'...</td>\n",
       "      <td>2824</td>\n",
       "      <td>Best bet is around LOCATION2 and LOCATION1 a...</td>\n",
       "    </tr>\n",
       "  </tbody>\n",
       "</table>\n",
       "</div>"
      ],
      "text/plain": [
       "                                            opinions    id  \\\n",
       "0  [{'sentiment': 'Negative', 'aspect': 'price', ...  1430   \n",
       "1  [{'sentiment': 'Positive', 'aspect': 'shopping...  2013   \n",
       "2  [{'sentiment': 'Positive', 'aspect': 'transit-...  1244   \n",
       "3  [{'sentiment': 'Positive', 'aspect': 'nightlif...   209   \n",
       "4  [{'sentiment': 'Positive', 'aspect': 'general'...  2824   \n",
       "\n",
       "                                                text  \n",
       "0      LOCATION1 is transforming and the prices w...  \n",
       "1    Along LOCATION1 there are lots of Electronic...  \n",
       "2    And LOCATION1 is ten mins direct on the tube...  \n",
       "3    Another option is LOCATION1 which is very ce...  \n",
       "4    Best bet is around LOCATION2 and LOCATION1 a...  "
      ]
     },
     "execution_count": 10,
     "metadata": {},
     "output_type": "execute_result"
    }
   ],
   "source": [
    "dtr.head()"
   ]
  },
  {
   "cell_type": "code",
   "execution_count": 11,
   "metadata": {},
   "outputs": [],
   "source": [
    "dtrc = clean_dataframe(dtr)"
   ]
  },
  {
   "cell_type": "code",
   "execution_count": 12,
   "metadata": {},
   "outputs": [
    {
     "data": {
      "text/html": [
       "<div>\n",
       "<style scoped>\n",
       "    .dataframe tbody tr th:only-of-type {\n",
       "        vertical-align: middle;\n",
       "    }\n",
       "\n",
       "    .dataframe tbody tr th {\n",
       "        vertical-align: top;\n",
       "    }\n",
       "\n",
       "    .dataframe thead th {\n",
       "        text-align: right;\n",
       "    }\n",
       "</style>\n",
       "<table border=\"1\" class=\"dataframe\">\n",
       "  <thead>\n",
       "    <tr style=\"text-align: right;\">\n",
       "      <th></th>\n",
       "      <th>sentiment</th>\n",
       "      <th>aspect</th>\n",
       "      <th>target_entity</th>\n",
       "      <th>id</th>\n",
       "      <th>text</th>\n",
       "    </tr>\n",
       "  </thead>\n",
       "  <tbody>\n",
       "    <tr>\n",
       "      <th>0</th>\n",
       "      <td>Negative</td>\n",
       "      <td>price</td>\n",
       "      <td>LOCATION1</td>\n",
       "      <td>1430</td>\n",
       "      <td>LOCATION1 is transforming and the prices w...</td>\n",
       "    </tr>\n",
       "    <tr>\n",
       "      <th>1</th>\n",
       "      <td>Positive</td>\n",
       "      <td>shopping</td>\n",
       "      <td>LOCATION1</td>\n",
       "      <td>2013</td>\n",
       "      <td>Along LOCATION1 there are lots of Electronic...</td>\n",
       "    </tr>\n",
       "    <tr>\n",
       "      <th>2</th>\n",
       "      <td>Positive</td>\n",
       "      <td>transit-location</td>\n",
       "      <td>LOCATION1</td>\n",
       "      <td>1244</td>\n",
       "      <td>And LOCATION1 is ten mins direct on the tube...</td>\n",
       "    </tr>\n",
       "    <tr>\n",
       "      <th>3</th>\n",
       "      <td>Positive</td>\n",
       "      <td>nightlife</td>\n",
       "      <td>LOCATION1</td>\n",
       "      <td>209</td>\n",
       "      <td>Another option is LOCATION1 which is very ce...</td>\n",
       "    </tr>\n",
       "    <tr>\n",
       "      <th>4</th>\n",
       "      <td>Positive</td>\n",
       "      <td>transit-location</td>\n",
       "      <td>LOCATION1</td>\n",
       "      <td>209</td>\n",
       "      <td>Another option is LOCATION1 which is very ce...</td>\n",
       "    </tr>\n",
       "  </tbody>\n",
       "</table>\n",
       "</div>"
      ],
      "text/plain": [
       "  sentiment            aspect target_entity    id  \\\n",
       "0  Negative             price     LOCATION1  1430   \n",
       "1  Positive          shopping     LOCATION1  2013   \n",
       "2  Positive  transit-location     LOCATION1  1244   \n",
       "3  Positive         nightlife     LOCATION1   209   \n",
       "4  Positive  transit-location     LOCATION1   209   \n",
       "\n",
       "                                                text  \n",
       "0      LOCATION1 is transforming and the prices w...  \n",
       "1    Along LOCATION1 there are lots of Electronic...  \n",
       "2    And LOCATION1 is ten mins direct on the tube...  \n",
       "3    Another option is LOCATION1 which is very ce...  \n",
       "4    Another option is LOCATION1 which is very ce...  "
      ]
     },
     "execution_count": 12,
     "metadata": {},
     "output_type": "execute_result"
    }
   ],
   "source": [
    "dtrc.head()"
   ]
  },
  {
   "cell_type": "code",
   "execution_count": 13,
   "metadata": {},
   "outputs": [
    {
     "name": "stdout",
     "output_type": "stream",
     "text": [
      "<class 'pandas.core.frame.DataFrame'>\n",
      "RangeIndex: 3396 entries, 0 to 3395\n",
      "Data columns (total 5 columns):\n",
      " #   Column         Non-Null Count  Dtype \n",
      "---  ------         --------------  ----- \n",
      " 0   sentiment      3396 non-null   object\n",
      " 1   aspect         3396 non-null   object\n",
      " 2   target_entity  3396 non-null   object\n",
      " 3   id             3396 non-null   int64 \n",
      " 4   text           3396 non-null   object\n",
      "dtypes: int64(1), object(4)\n",
      "memory usage: 132.8+ KB\n"
     ]
    }
   ],
   "source": [
    "dtrc.info()"
   ]
  },
  {
   "cell_type": "code",
   "execution_count": 14,
   "metadata": {},
   "outputs": [
    {
     "data": {
      "text/plain": [
       "Positive    2475\n",
       "Negative     921\n",
       "Name: sentiment, dtype: int64"
      ]
     },
     "execution_count": 14,
     "metadata": {},
     "output_type": "execute_result"
    }
   ],
   "source": [
    "dtrc.sentiment.value_counts()"
   ]
  },
  {
   "cell_type": "code",
   "execution_count": null,
   "metadata": {},
   "outputs": [],
   "source": []
  }
 ],
 "metadata": {
  "kernelspec": {
   "display_name": "dir_sent_qa",
   "language": "python",
   "name": "python3"
  },
  "language_info": {
   "codemirror_mode": {
    "name": "ipython",
    "version": 3
   },
   "file_extension": ".py",
   "mimetype": "text/x-python",
   "name": "python",
   "nbconvert_exporter": "python",
   "pygments_lexer": "ipython3",
   "version": "3.10.9"
  },
  "orig_nbformat": 4,
  "vscode": {
   "interpreter": {
    "hash": "1c331ed578845b93030dd13d4fb747e2ca8135fc936f4be14d6f101c1190eba5"
   }
  }
 },
 "nbformat": 4,
 "nbformat_minor": 2
}
